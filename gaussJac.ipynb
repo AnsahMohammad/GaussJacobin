{
 "cells": [
  {
   "cell_type": "code",
   "execution_count": 215,
   "metadata": {},
   "outputs": [
    {
     "ename": "ValueError",
     "evalue": "invalid literal for int() with base 10: ''",
     "output_type": "error",
     "traceback": [
      "\u001b[1;31m---------------------------------------------------------------------------\u001b[0m",
      "\u001b[1;31mValueError\u001b[0m                                Traceback (most recent call last)",
      "\u001b[1;32m<ipython-input-215-aa7ebc887f36>\u001b[0m in \u001b[0;36m<module>\u001b[1;34m\u001b[0m\n\u001b[0;32m      1\u001b[0m \u001b[1;31m#program to solve gauss jacobin Linear equation\u001b[0m\u001b[1;33m\u001b[0m\u001b[1;33m\u001b[0m\u001b[1;33m\u001b[0m\u001b[0m\n\u001b[1;32m----> 2\u001b[1;33m \u001b[0meqs\u001b[0m \u001b[1;33m=\u001b[0m \u001b[0mint\u001b[0m\u001b[1;33m(\u001b[0m\u001b[0minput\u001b[0m\u001b[1;33m(\u001b[0m\u001b[1;34m\"Enter number of equations : \"\u001b[0m\u001b[1;33m)\u001b[0m\u001b[1;33m)\u001b[0m\u001b[1;33m\u001b[0m\u001b[1;33m\u001b[0m\u001b[0m\n\u001b[0m\u001b[0;32m      3\u001b[0m \u001b[0meqs_\u001b[0m \u001b[1;33m=\u001b[0m \u001b[1;33m[\u001b[0m\u001b[1;33m]\u001b[0m\u001b[1;33m\u001b[0m\u001b[1;33m\u001b[0m\u001b[0m\n\u001b[0;32m      4\u001b[0m \u001b[1;32mfor\u001b[0m \u001b[0m_\u001b[0m \u001b[1;32min\u001b[0m \u001b[0mrange\u001b[0m\u001b[1;33m(\u001b[0m\u001b[0meqs\u001b[0m\u001b[1;33m)\u001b[0m\u001b[1;33m:\u001b[0m\u001b[1;33m\u001b[0m\u001b[1;33m\u001b[0m\u001b[0m\n\u001b[0;32m      5\u001b[0m     \u001b[0mk\u001b[0m \u001b[1;33m=\u001b[0m \u001b[0mlist\u001b[0m\u001b[1;33m(\u001b[0m\u001b[0mmap\u001b[0m\u001b[1;33m(\u001b[0m\u001b[0mint\u001b[0m\u001b[1;33m,\u001b[0m\u001b[0minput\u001b[0m\u001b[1;33m(\u001b[0m\u001b[1;34m\"enter the coefficient in (ax1+bx2=c) order : \\n\"\u001b[0m\u001b[1;33m)\u001b[0m\u001b[1;33m.\u001b[0m\u001b[0msplit\u001b[0m\u001b[1;33m(\u001b[0m\u001b[1;34m\" \"\u001b[0m\u001b[1;33m)\u001b[0m\u001b[1;33m)\u001b[0m\u001b[1;33m)\u001b[0m\u001b[1;33m\u001b[0m\u001b[1;33m\u001b[0m\u001b[0m\n",
      "\u001b[1;31mValueError\u001b[0m: invalid literal for int() with base 10: ''"
     ]
    }
   ],
   "source": [
    "#program to solve gauss jacobin Linear equation\n",
    "eqs = int(input(\"Enter number of equations : \"))\n",
    "eqs_ = []\n",
    "for _ in range(eqs):\n",
    "    k = list(map(int,input(\"enter the coefficient in (ax1+bx2=c) order : \\n\").split(\" \")))\n",
    "    eqs_.append(k)\n"
   ]
  },
  {
   "cell_type": "code",
   "execution_count": 230,
   "metadata": {},
   "outputs": [],
   "source": [
    "def display(arr):\n",
    "    fin = \"\"\n",
    "    k = 0\n",
    "    for each in arr[:-1]:\n",
    "        fin += \"({})x{} + \".format(str(each),k)\n",
    "        k+=1\n",
    "    fin = fin[:-2]\n",
    "    fin += \"= \"+str(arr[-1])\n",
    "    print(fin)\n",
    "    "
   ]
  },
  {
   "cell_type": "code",
   "execution_count": 231,
   "metadata": {},
   "outputs": [
    {
     "name": "stdout",
     "output_type": "stream",
     "text": [
      "(10)x0 + (-2)x1 + (-1)x2 + (-2)x3 = 3\n",
      "(-2)x0 + (10)x1 + (-1)x2 + (-5)x3 = 15\n",
      "(-1)x0 + (-2)x1 + (10)x2 + (-2)x3 = 27\n",
      "(-1)x0 + (-1)x1 + (-2)x2 + (10)x3 = -1\n"
     ]
    }
   ],
   "source": [
    "for each in eqs_:\n",
    "    display(each)"
   ]
  },
  {
   "cell_type": "code",
   "execution_count": 218,
   "metadata": {},
   "outputs": [],
   "source": [
    "def rearrange(arr):\n",
    "    for i in range(len(arr)):\n",
    "        if(arr[i][i] != max(arr[i][:-1])):\n",
    "            temp = arr[i]\n",
    "            #finding the pposition of max\n",
    "            for j in range(len(arr[i][:-1])):\n",
    "                if arr[i][j] == max(arr[i][:-1]):\n",
    "                    print(\"re-arranging {0} to {1} and {1} to {0}\".format(i,j))\n",
    "                    arr[i] = arr[j]\n",
    "                    arr[j] = temp\n",
    "                    break"
   ]
  },
  {
   "cell_type": "code",
   "execution_count": 234,
   "metadata": {},
   "outputs": [
    {
     "data": {
      "text/plain": [
       "[[10, -2, -1, -2, 3],\n",
       " [-2, 10, -1, -5, 15],\n",
       " [-1, -2, 10, -2, 27],\n",
       " [-1, -1, -2, 10, -1]]"
      ]
     },
     "execution_count": 234,
     "metadata": {},
     "output_type": "execute_result"
    }
   ],
   "source": [
    "for _ in range(int(eqs/2)):\n",
    "    rearrange(eqs_)\n",
    "eqs_"
   ]
  },
  {
   "cell_type": "code",
   "execution_count": 220,
   "metadata": {},
   "outputs": [],
   "source": [
    "vars = [0 for i in range(len(eqs_[0]))]\n",
    "vars[-1] = 1"
   ]
  },
  {
   "cell_type": "code",
   "execution_count": 221,
   "metadata": {},
   "outputs": [],
   "source": [
    "def equating(arrk):\n",
    "    global vars\n",
    "    vark = []\n",
    "    for arr in arrk:\n",
    "        if arr != None:\n",
    "            sum = 0\n",
    "            coeff = arr[-1]\n",
    "            sum += coeff\n",
    "            div = 1\n",
    "            max_ = max(arr[:-1])\n",
    "            for i in range(len(arr)-1):\n",
    "                if arr[i] != max_:\n",
    "                    sum -= arr[i]*vars[i]\n",
    "                else:\n",
    "                    div = arr[i]\n",
    "            \n",
    "            sum /= div\n",
    "            vark.append(sum)\n",
    "    \n",
    "    vars = vark"
   ]
  },
  {
   "cell_type": "code",
   "execution_count": 222,
   "metadata": {},
   "outputs": [
    {
     "data": {
      "text/plain": [
       "[0, 0, 0, 0, 1]"
      ]
     },
     "execution_count": 222,
     "metadata": {},
     "output_type": "execute_result"
    }
   ],
   "source": [
    "vars"
   ]
  },
  {
   "cell_type": "code",
   "execution_count": 228,
   "metadata": {},
   "outputs": [],
   "source": [
    "def displaySol(sol):\n",
    "    fin = \"\"\n",
    "    k=0\n",
    "    for each in sol:\n",
    "        fin += \"x{} = {}\\n\".format(k,sol[k])\n",
    "        k+=1\n",
    "    \n",
    "    print(fin)"
   ]
  },
  {
   "cell_type": "code",
   "execution_count": null,
   "metadata": {},
   "outputs": [],
   "source": [
    "iters = int(input(\"Enter number of iterations : \"))\n",
    "for _ in range(iters):\n",
    "    equating(eqs_)\n",
    "\n",
    "print(\"Final coefficients after {} iterations are : \\n\".format(iters))\n",
    "displaySol(vars)"
   ]
  },
  {
   "cell_type": "code",
   "execution_count": null,
   "metadata": {},
   "outputs": [],
   "source": []
  }
 ],
 "metadata": {
  "kernelspec": {
   "display_name": "Python 3.9.5 64-bit",
   "language": "python",
   "name": "python3"
  },
  "language_info": {
   "codemirror_mode": {
    "name": "ipython",
    "version": 3
   },
   "file_extension": ".py",
   "mimetype": "text/x-python",
   "name": "python",
   "nbconvert_exporter": "python",
   "pygments_lexer": "ipython3",
   "version": "3.9.5"
  },
  "orig_nbformat": 4,
  "vscode": {
   "interpreter": {
    "hash": "a03c00cd90ff7f386b865d3be61500a338b6b15a4e24e06ba98453dc38e822c0"
   }
  }
 },
 "nbformat": 4,
 "nbformat_minor": 2
}
