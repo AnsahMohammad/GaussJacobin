{
 "cells": [
  {
   "cell_type": "code",
   "execution_count": 235,
   "metadata": {},
   "outputs": [],
   "source": [
    "#program to solve gauss jacobin Linear equation\n",
    "eqs = int(input(\"Enter number of equations : \"))\n",
    "eqs_ = []\n",
    "for _ in range(eqs):\n",
    "    k = list(map(int,input(\"enter the coefficient in (ax1+bx2=c) order : \\n\").split(\" \")))\n",
    "    eqs_.append(k)\n"
   ]
  },
  {
   "cell_type": "code",
   "execution_count": 236,
   "metadata": {},
   "outputs": [],
   "source": [
    "def display(arr):\n",
    "    fin = \"\"\n",
    "    k = 0\n",
    "    for each in arr[:-1]:\n",
    "        fin += \"({})x{} + \".format(str(each),k)\n",
    "        k+=1\n",
    "    fin = fin[:-2]\n",
    "    fin += \"= \"+str(arr[-1])\n",
    "    print(fin)\n",
    "    "
   ]
  },
  {
   "cell_type": "code",
   "execution_count": 237,
   "metadata": {},
   "outputs": [
    {
     "name": "stdout",
     "output_type": "stream",
     "text": [
      "(10)x0 + (1)x1 + (2)x2 = 10\n",
      "(1)x0 + (10)x1 + (1)x2 = 20\n",
      "(1)x0 + (1)x1 + (20)x2 = 13\n"
     ]
    }
   ],
   "source": [
    "for each in eqs_:\n",
    "    display(each)"
   ]
  },
  {
   "cell_type": "code",
   "execution_count": 238,
   "metadata": {},
   "outputs": [],
   "source": [
    "def rearrange(arr):\n",
    "    for i in range(len(arr)):\n",
    "        if(arr[i][i] != max(arr[i][:-1])):\n",
    "            temp = arr[i]\n",
    "            #finding the pposition of max\n",
    "            for j in range(len(arr[i][:-1])):\n",
    "                if arr[i][j] == max(arr[i][:-1]):\n",
    "                    print(\"re-arranging {0} to {1} and {1} to {0}\".format(i,j))\n",
    "                    arr[i] = arr[j]\n",
    "                    arr[j] = temp\n",
    "                    break"
   ]
  },
  {
   "cell_type": "code",
   "execution_count": 239,
   "metadata": {},
   "outputs": [
    {
     "data": {
      "text/plain": [
       "[[10, 1, 2, 10], [1, 10, 1, 20], [1, 1, 20, 13]]"
      ]
     },
     "execution_count": 239,
     "metadata": {},
     "output_type": "execute_result"
    }
   ],
   "source": [
    "for _ in range(int(eqs/2)):\n",
    "    rearrange(eqs_)\n",
    "eqs_"
   ]
  },
  {
   "cell_type": "code",
   "execution_count": 240,
   "metadata": {},
   "outputs": [],
   "source": [
    "vars = [0 for i in range(len(eqs_[0]))]\n",
    "vars[-1] = 1"
   ]
  },
  {
   "cell_type": "code",
   "execution_count": 241,
   "metadata": {},
   "outputs": [],
   "source": [
    "def equating(arrk):\n",
    "    global vars\n",
    "    vark = []\n",
    "    for arr in arrk:\n",
    "        if arr != None:\n",
    "            sum = 0\n",
    "            coeff = arr[-1]\n",
    "            sum += coeff\n",
    "            div = 1\n",
    "            max_ = max(arr[:-1])\n",
    "            for i in range(len(arr)-1):\n",
    "                if arr[i] != max_:\n",
    "                    sum -= arr[i]*vars[i]\n",
    "                else:\n",
    "                    div = arr[i]\n",
    "            \n",
    "            sum /= div\n",
    "            vark.append(sum)\n",
    "    \n",
    "    vars = vark"
   ]
  },
  {
   "cell_type": "code",
   "execution_count": 242,
   "metadata": {},
   "outputs": [
    {
     "data": {
      "text/plain": [
       "[0, 0, 0, 1]"
      ]
     },
     "execution_count": 242,
     "metadata": {},
     "output_type": "execute_result"
    }
   ],
   "source": [
    "vars"
   ]
  },
  {
   "cell_type": "code",
   "execution_count": 243,
   "metadata": {},
   "outputs": [],
   "source": [
    "def displaySol(sol):\n",
    "    fin = \"\"\n",
    "    k=0\n",
    "    for each in sol:\n",
    "        fin += \"x{} = {}\\n\".format(k,sol[k])\n",
    "        k+=1\n",
    "    \n",
    "    print(fin)"
   ]
  },
  {
   "cell_type": "code",
   "execution_count": 244,
   "metadata": {},
   "outputs": [
    {
     "name": "stdout",
     "output_type": "stream",
     "text": [
      "Final coefficients after 7 iterations are : \n",
      "\n",
      "x0 = 0.7081500624999999\n",
      "x1 = 1.8771192500000002\n",
      "x2 = 0.52074168125\n",
      "\n"
     ]
    }
   ],
   "source": [
    "iters = int(input(\"Enter number of iterations : \"))\n",
    "for _ in range(iters):\n",
    "    equating(eqs_)\n",
    "\n",
    "print(\"Final coefficients after {} iterations are : \\n\".format(iters))\n",
    "displaySol(vars)"
   ]
  },
  {
   "cell_type": "code",
   "execution_count": 248,
   "metadata": {},
   "outputs": [],
   "source": [
    "def isGaussJacobin(eqs_):\n",
    "    eqs = len(eqs_)\n",
    "    #re-arranging\n",
    "    for _ in range(int(eqs/2)):\n",
    "        rearrange(eqs_)\n",
    "    \n",
    "    for i in range(len(eqs_)):\n",
    "        if eqs_[i][i] != max(eqs_[i][:-1]):\n",
    "            return False\n",
    "        \n",
    "    return True\n"
   ]
  },
  {
   "cell_type": "code",
   "execution_count": 249,
   "metadata": {},
   "outputs": [
    {
     "data": {
      "text/plain": [
       "True"
      ]
     },
     "execution_count": 249,
     "metadata": {},
     "output_type": "execute_result"
    }
   ],
   "source": [
    "isGaussJacobin(eqs_)"
   ]
  },
  {
   "cell_type": "code",
   "execution_count": null,
   "metadata": {},
   "outputs": [],
   "source": []
  }
 ],
 "metadata": {
  "kernelspec": {
   "display_name": "Python 3.9.5 64-bit",
   "language": "python",
   "name": "python3"
  },
  "language_info": {
   "codemirror_mode": {
    "name": "ipython",
    "version": 3
   },
   "file_extension": ".py",
   "mimetype": "text/x-python",
   "name": "python",
   "nbconvert_exporter": "python",
   "pygments_lexer": "ipython3",
   "version": "3.9.5"
  },
  "orig_nbformat": 4,
  "vscode": {
   "interpreter": {
    "hash": "a03c00cd90ff7f386b865d3be61500a338b6b15a4e24e06ba98453dc38e822c0"
   }
  }
 },
 "nbformat": 4,
 "nbformat_minor": 2
}
