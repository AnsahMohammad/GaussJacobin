{
 "cells": [
  {
   "cell_type": "code",
   "execution_count": 177,
   "metadata": {},
   "outputs": [],
   "source": [
    "#program to solve gauss jacobin Linear equation\n",
    "eqs = int(input(\"Enter number of equations : \"))\n",
    "eqs_ = []\n",
    "for _ in range(eqs):\n",
    "    k = list(map(int,input(\"enter the coefficient in (ax1+bx2=c) order : \\n\").split(\" \")))\n",
    "    eqs_.append(k)\n"
   ]
  },
  {
   "cell_type": "code",
   "execution_count": 178,
   "metadata": {},
   "outputs": [
    {
     "data": {
      "text/plain": [
       "[[-2, 10, -1, -5, 15],\n",
       " [-1, -1, -2, 10, -1],\n",
       " [-1, -2, 10, -2, 27],\n",
       " [10, -2, -1, -2, 3]]"
      ]
     },
     "execution_count": 178,
     "metadata": {},
     "output_type": "execute_result"
    }
   ],
   "source": [
    "eqs_"
   ]
  },
  {
   "cell_type": "code",
   "execution_count": 179,
   "metadata": {},
   "outputs": [],
   "source": [
    "def rearrange(arr):\n",
    "    for i in range(len(arr)):\n",
    "        if(arr[i][i] != max(arr[i][:-1])):\n",
    "            temp = arr[i]\n",
    "            #finding the pposition of max\n",
    "            for j in range(len(arr[i][:-1])):\n",
    "                if arr[i][j] == max(arr[i][:-1]):\n",
    "                    print(\"changing {0} to {1} and {1} to {0}\".format(i,j))\n",
    "                    arr[i] = arr[j]\n",
    "                    arr[j] = temp\n",
    "                    break"
   ]
  },
  {
   "cell_type": "code",
   "execution_count": 181,
   "metadata": {},
   "outputs": [
    {
     "name": "stdout",
     "output_type": "stream",
     "text": [
      "changing 0 to 1 and 1 to 0\n",
      "changing 3 to 0 and 0 to 3\n"
     ]
    },
    {
     "data": {
      "text/plain": [
       "[[10, -2, -1, -2, 3],\n",
       " [-2, 10, -1, -5, 15],\n",
       " [-1, -2, 10, -2, 27],\n",
       " [-1, -1, -2, 10, -1]]"
      ]
     },
     "execution_count": 181,
     "metadata": {},
     "output_type": "execute_result"
    }
   ],
   "source": [
    "rearrange(eqs_)\n",
    "eqs_"
   ]
  },
  {
   "cell_type": "code",
   "execution_count": 188,
   "metadata": {},
   "outputs": [],
   "source": [
    "vars = [0 for i in range(len(eqs_[0]))]\n",
    "vars[-1] = 1"
   ]
  },
  {
   "cell_type": "code",
   "execution_count": 189,
   "metadata": {},
   "outputs": [],
   "source": [
    "def equating(arrk):\n",
    "    global vars\n",
    "    vark = []\n",
    "    for arr in arrk:\n",
    "        if arr != None:\n",
    "            sum = 0\n",
    "            coeff = arr[-1]\n",
    "            sum += coeff\n",
    "            div = 1\n",
    "            max_ = max(arr[:-1])\n",
    "            for i in range(len(arr)-1):\n",
    "                if arr[i] != max_:\n",
    "                    sum -= arr[i]*vars[i]\n",
    "                else:\n",
    "                    div = arr[i]\n",
    "            \n",
    "            sum /= div\n",
    "            vark.append(sum)\n",
    "    \n",
    "    vars = vark"
   ]
  },
  {
   "cell_type": "code",
   "execution_count": 190,
   "metadata": {},
   "outputs": [
    {
     "data": {
      "text/plain": [
       "[0, 0, 0, 0, 1]"
      ]
     },
     "execution_count": 190,
     "metadata": {},
     "output_type": "execute_result"
    }
   ],
   "source": [
    "vars"
   ]
  },
  {
   "cell_type": "code",
   "execution_count": 191,
   "metadata": {},
   "outputs": [
    {
     "name": "stdout",
     "output_type": "stream",
     "text": [
      "Final coefficients after 5 iterations are : \n",
      "[1.3046099999999998, 2.53347, 3.48645, 0.94955]\n"
     ]
    }
   ],
   "source": [
    "iters = int(input(\"Enter number of iterations : \"))\n",
    "for _ in range(iters):\n",
    "    equating(eqs_)\n",
    "\n",
    "print(\"Final coefficients after {} iterations are : \\n\".format(iters)+str(vars))"
   ]
  },
  {
   "cell_type": "code",
   "execution_count": null,
   "metadata": {},
   "outputs": [],
   "source": []
  }
 ],
 "metadata": {
  "kernelspec": {
   "display_name": "Python 3.9.5 64-bit",
   "language": "python",
   "name": "python3"
  },
  "language_info": {
   "codemirror_mode": {
    "name": "ipython",
    "version": 3
   },
   "file_extension": ".py",
   "mimetype": "text/x-python",
   "name": "python",
   "nbconvert_exporter": "python",
   "pygments_lexer": "ipython3",
   "version": "3.9.5"
  },
  "orig_nbformat": 4,
  "vscode": {
   "interpreter": {
    "hash": "a03c00cd90ff7f386b865d3be61500a338b6b15a4e24e06ba98453dc38e822c0"
   }
  }
 },
 "nbformat": 4,
 "nbformat_minor": 2
}
