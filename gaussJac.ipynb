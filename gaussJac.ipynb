{
 "cells": [
  {
   "cell_type": "code",
   "execution_count": 118,
   "metadata": {},
   "outputs": [],
   "source": [
    "#program to solve gauss jacobin Linear equation\n",
    "eqs = int(input(\"Enter number of equations : \"))\n",
    "eqs_ = []\n",
    "for _ in range(eqs):\n",
    "    k = list(map(int,input(\"enter the coefficient in (ax1+bx2=c) order : \\n\").split(\" \")))\n",
    "    eqs_.append(k)\n"
   ]
  },
  {
   "cell_type": "code",
   "execution_count": 122,
   "metadata": {},
   "outputs": [
    {
     "data": {
      "text/plain": [
       "[[10, -2, -1, -2, 3],\n",
       " [-2, 10, -1, -5, 15],\n",
       " [-1, -2, 10, -2, 27],\n",
       " [-1, -2, 10, -2, 27]]"
      ]
     },
     "execution_count": 122,
     "metadata": {},
     "output_type": "execute_result"
    }
   ],
   "source": [
    "eqs_"
   ]
  },
  {
   "cell_type": "code",
   "execution_count": 116,
   "metadata": {},
   "outputs": [],
   "source": [
    "def rearrange(arr):\n",
    "    for i in range(len(arr)):\n",
    "        if(arr[i][i] != max(arr[i][:-1])):\n",
    "            temp = arr[i]\n",
    "            #finding the pposition of max\n",
    "            pos = 0\n",
    "            for j in range(len(arr[i][:-1])):\n",
    "                if arr[i][j] == max(arr[i][:-1]):\n",
    "                    pos = j\n",
    "                    arr[i] = arr[pos]\n",
    "                    arr[pos] = temp\n",
    "            \n",
    "            print(arr)"
   ]
  },
  {
   "cell_type": "code",
   "execution_count": 121,
   "metadata": {},
   "outputs": [
    {
     "name": "stdout",
     "output_type": "stream",
     "text": [
      "Found anomaly at 3\n",
      "2\n",
      "[[10, -2, -1, -2, 3], [-2, 10, -1, -5, 15], [-1, -2, 10, -2, 27], [-1, -2, 10, -2, 27]]\n"
     ]
    },
    {
     "data": {
      "text/plain": [
       "[[10, -2, -1, -2, 3],\n",
       " [-2, 10, -1, -5, 15],\n",
       " [-1, -2, 10, -2, 27],\n",
       " [-1, -2, 10, -2, 27]]"
      ]
     },
     "execution_count": 121,
     "metadata": {},
     "output_type": "execute_result"
    }
   ],
   "source": [
    "rearrange(eqs_)\n",
    "eqs_"
   ]
  },
  {
   "cell_type": "code",
   "execution_count": 73,
   "metadata": {},
   "outputs": [
    {
     "data": {
      "text/plain": [
       "[0, 0, 0, 0, 1]"
      ]
     },
     "execution_count": 73,
     "metadata": {},
     "output_type": "execute_result"
    }
   ],
   "source": [
    "\n",
    "vars = [0 for i in range(len(eqs_[0]))]\n",
    "vars[-1] = 1\n",
    "vars"
   ]
  },
  {
   "cell_type": "code",
   "execution_count": 64,
   "metadata": {},
   "outputs": [],
   "source": [
    "def equating(arrk):\n",
    "    global vars\n",
    "    vark = []\n",
    "    for arr in arrk:\n",
    "        if arr != None:\n",
    "            sum = 0\n",
    "            coeff = arr[-1]\n",
    "            sum += coeff\n",
    "            div = 1\n",
    "            max_ = max(arr[:-1])\n",
    "            for i in range(len(arr)-1):\n",
    "                if arr[i] != max_:\n",
    "                    sum -= arr[i]*vars[i]\n",
    "                else:\n",
    "                    div = arr[i]\n",
    "            \n",
    "            sum /= div\n",
    "            vark.append(sum)\n",
    "    \n",
    "    vars = vark"
   ]
  },
  {
   "cell_type": "code",
   "execution_count": 60,
   "metadata": {},
   "outputs": [
    {
     "name": "stdout",
     "output_type": "stream",
     "text": [
      "Final coefficients are : [1.389387436597737, 2.6437768240343344, 3.571205618415918, 1.0175575497463907]\n"
     ]
    }
   ],
   "source": [
    "iters = int(input(\"Enter number of iterations : \"))\n",
    "for _ in range(iters):\n",
    "    equating(eqs_)\n",
    "\n",
    "print(\"Final coefficients are : \"+str(vars))"
   ]
  }
 ],
 "metadata": {
  "kernelspec": {
   "display_name": "Python 3.9.5 64-bit",
   "language": "python",
   "name": "python3"
  },
  "language_info": {
   "codemirror_mode": {
    "name": "ipython",
    "version": 3
   },
   "file_extension": ".py",
   "mimetype": "text/x-python",
   "name": "python",
   "nbconvert_exporter": "python",
   "pygments_lexer": "ipython3",
   "version": "3.9.5"
  },
  "orig_nbformat": 4,
  "vscode": {
   "interpreter": {
    "hash": "a03c00cd90ff7f386b865d3be61500a338b6b15a4e24e06ba98453dc38e822c0"
   }
  }
 },
 "nbformat": 4,
 "nbformat_minor": 2
}
