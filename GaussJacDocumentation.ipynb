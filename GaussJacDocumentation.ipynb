{
 "cells": [
  {
   "cell_type": "markdown",
   "metadata": {},
   "source": [
    "# GaussJacobin Module \n",
    "## Complete Documentation\n",
    "\n",
    "\n",
    "### Table of Contents\n",
    " 1. How to Import\n",
    " 2. Basic Funtions\n",
    " 3. Arriving at Solution\n",
    " 4. Conclusion\n",
    "\n",
    "\n",
    "<br>\n",
    "<br>\n",
    "Project By\n",
    "AnsahMohammad"
   ]
  },
  {
   "cell_type": "markdown",
   "metadata": {},
   "source": [
    "## How to Import"
   ]
  },
  {
   "cell_type": "code",
   "execution_count": 2,
   "metadata": {},
   "outputs": [],
   "source": [
    "from gaussJacobin import gaussJacobin, isGaussJacobin, display, displaySol"
   ]
  },
  {
   "cell_type": "markdown",
   "metadata": {},
   "source": [
    "Now for us to work, lets take a sample system of equations\n",
    "eqs = [\n",
    "    [10,1,2,10],\n",
    "    [1,10,1,20],\n",
    "    [1,1,20,13]\n",
    "]\n",
    "\n",
    "equations are to be feeded into gaussJacobin as 2d list containing equations,\n",
    "\n",
    "we can take a look at the equation using 'display( equation )' "
   ]
  },
  {
   "cell_type": "code",
   "execution_count": 3,
   "metadata": {},
   "outputs": [
    {
     "name": "stdout",
     "output_type": "stream",
     "text": [
      "(10)x0 + (1)x1 + (2)x2 = 10\n",
      "(1)x0 + (10)x1 + (1)x2 = 20\n",
      "(1)x0 + (1)x1 + (20)x2 = 13\n"
     ]
    }
   ],
   "source": [
    "eqs = [\n",
    "    [10,1,2,10],\n",
    "    [1,10,1,20],\n",
    "    [1,1,20,13]\n",
    "]\n",
    "display(eqs)"
   ]
  },
  {
   "cell_type": "markdown",
   "metadata": {},
   "source": [
    "Now, we can check wether the given equation has solution using GaussJacobin by <i>isGaussJacobin( equation )</i>  "
   ]
  },
  {
   "cell_type": "code",
   "execution_count": 4,
   "metadata": {},
   "outputs": [
    {
     "data": {
      "text/plain": [
       "True"
      ]
     },
     "execution_count": 4,
     "metadata": {},
     "output_type": "execute_result"
    }
   ],
   "source": [
    "isGaussJacobin(eqs)"
   ]
  },
  {
   "cell_type": "markdown",
   "metadata": {},
   "source": [
    "We can get the solution of GaussJacobin by using <i>gaussJacobin()</i>. It returns an Array of solutions for each variable.\n",
    "\n",
    "gaussJacobin(equation, iterations)\n",
    "\n",
    "it has two parameters,\n",
    "equation - The equation for which we need the solution\n",
    "iterations - Number of time to iterate the solution (Higher the iterations Accurate the Answer)\n",
    "\n",
    "Note:\n",
    "iterations >=0"
   ]
  },
  {
   "cell_type": "code",
   "execution_count": 6,
   "metadata": {},
   "outputs": [
    {
     "data": {
      "text/plain": [
       "[0.7081416105625, 1.8771123726875, 0.52073747178125]"
      ]
     },
     "execution_count": 6,
     "metadata": {},
     "output_type": "execute_result"
    }
   ],
   "source": [
    "gaussJacobin(eqs,9)"
   ]
  },
  {
   "cell_type": "markdown",
   "metadata": {},
   "source": [
    "We can use <i>displaySol( solution )</i> to display solution in a better way.\n",
    "solution - The returned array from <em>gaussJacobin()</em>"
   ]
  },
  {
   "cell_type": "code",
   "execution_count": 7,
   "metadata": {},
   "outputs": [
    {
     "name": "stdout",
     "output_type": "stream",
     "text": [
      "x0 = 0.7081416105625\n",
      "x1 = 1.8771123726875\n",
      "x2 = 0.52073747178125\n",
      "\n"
     ]
    }
   ],
   "source": [
    "k = gaussJacobin(eqs,9)\n",
    "displaySol(k)"
   ]
  },
  {
   "cell_type": "markdown",
   "metadata": {},
   "source": [
    "# Conclusion\n",
    "\n",
    "This Module gaussJacobin is used to solve system equations using gaussJaobin method.<br>\n",
    "It can check wether it is solvable by this method or not.\n",
    "\n",
    "You can visit <a href=\"https://github.com/AnsahMohammad/GaussJacobin\">gaussJacobin</a> to see the Source code.\n",
    "\n",
    "<em> ~ Thank You </em>"
   ]
  }
 ],
 "metadata": {
  "kernelspec": {
   "display_name": "Python 3.9.5 64-bit",
   "language": "python",
   "name": "python3"
  },
  "language_info": {
   "codemirror_mode": {
    "name": "ipython",
    "version": 3
   },
   "file_extension": ".py",
   "mimetype": "text/x-python",
   "name": "python",
   "nbconvert_exporter": "python",
   "pygments_lexer": "ipython3",
   "version": "3.9.5"
  },
  "orig_nbformat": 4,
  "vscode": {
   "interpreter": {
    "hash": "a03c00cd90ff7f386b865d3be61500a338b6b15a4e24e06ba98453dc38e822c0"
   }
  }
 },
 "nbformat": 4,
 "nbformat_minor": 2
}
